{
 "cells": [
  {
   "attachments": {},
   "cell_type": "markdown",
   "metadata": {},
   "source": [
    "# Задание 3. Автоматическое обновление файла"
   ]
  },
  {
   "cell_type": "code",
   "execution_count": 31,
   "metadata": {},
   "outputs": [],
   "source": [
    "import pandas as pd\n",
    "import numpy as np\n",
    "import seaborn as sns\n",
    "import matplotlib.pyplot as plt\n",
    "%matplotlib inline\n",
    "\n",
    "import requests\n",
    "from urllib.parse import urlencode"
   ]
  },
  {
   "cell_type": "code",
   "execution_count": 32,
   "metadata": {},
   "outputs": [],
   "source": [
    "def get_data(groups_link, groups_add_link, checks_link):\n",
    "\n",
    "    base_url = 'https://cloud-api.yandex.net/v1/disk/public/resources/download?'\n",
    "    \n",
    "    groups_key = groups_link\n",
    "    groups_url = base_url + urlencode(dict(public_key=groups_key))\n",
    "    response_groups = requests.get(groups_url)\n",
    "    download_groups = response_groups.json()['href']\n",
    "    groups = pd.read_csv(download_groups, sep=';', header=0, names=['id', 'group'])\n",
    "\n",
    "    groups_add_key = groups_add_link\n",
    "    groups_add_url = base_url + urlencode(dict(public_key=groups_add_key))\n",
    "    response_groups_add = requests.get(groups_add_url)\n",
    "    download_groups_add = response_groups_add.json()['href']\n",
    "    groups_add = pd.read_csv(download_groups_add, sep=',', header=0, names=['id', 'group'])\n",
    "\n",
    "    checks_key = checks_link\n",
    "    checks_url = base_url + urlencode(dict(public_key=checks_key))\n",
    "    response_checks = requests.get(checks_url)\n",
    "    download_checks = response_checks.json()['href']\n",
    "    checks = pd.read_csv(download_checks, sep=';', header=0, names=['id', 'revenue'])\n",
    "\n",
    "    return groups, groups_add, checks"
   ]
  },
  {
   "cell_type": "code",
   "execution_count": 33,
   "metadata": {},
   "outputs": [],
   "source": [
    "groups, groups_add, checks = get_data('https://disk.yandex.ru/d/UhyYx41rTt3clQ', \n",
    "                                      'https://disk.yandex.ru/d/5Kxrz02m3IBUwQ', \n",
    "                                      'https://disk.yandex.ru/d/pH1q-VqcxXjsVA')"
   ]
  },
  {
   "cell_type": "code",
   "execution_count": 34,
   "metadata": {},
   "outputs": [
    {
     "ename": "IndentationError",
     "evalue": "unexpected indent (2125695574.py, line 10)",
     "output_type": "error",
     "traceback": [
      "\u001b[0;36m  Cell \u001b[0;32mIn[34], line 10\u001b[0;36m\u001b[0m\n\u001b[0;31m    metrics = (df_groups.groupby('group', as_index=False)\u001b[0m\n\u001b[0m    ^\u001b[0m\n\u001b[0;31mIndentationError\u001b[0m\u001b[0;31m:\u001b[0m unexpected indent\n"
     ]
    }
   ],
   "source": [
    "def df_and_metrics(groups, groups_add, checks):\n",
    "\n",
    "    # Объединяем таблицы в один DataFrame\n",
    "    df_groups = pd.concat([groups, groups_add], ignore_index=True)\n",
    "    df_groups = df_groups.merge(checks, how='left', on='id')\n",
    "    df_groups['revenue'] = df_groups.revenue.fillna(0)\n",
    "    df_groups['purchases'] = np.where(df_groups['revenue'] > 0, 1, 0)\n",
    "\n",
    "        # Считаем основные метрики\n",
    "        metrics = (df_groups.groupby('group', as_index=False)\n",
    "                .agg({'id': 'count', 'revenue': 'sum', 'purchases': 'sum'})\n",
    "                .rename(columns={'id': 'total_users', 'revenue': 'total_revenue'}))\n",
    "        \n",
    "        metrics['total_revenue'] = round(metrics.total_revenue, 2)\n",
    "        metrics = metrics.assign(ARPU=round(metrics.total_revenue / metrics.total_users, 2), \n",
    "                                ARPPU=round(metrics.total_revenue / metrics.purchases, 2), \n",
    "                                CR=round(metrics.purchases / metrics.total_users * 100, 2))\n",
    "        \n",
    "        # Возвращаем объединенный DataFrame и таблицу с основными показателями\n",
    "        return df_groups, metrics"
   ]
  },
  {
   "cell_type": "code",
   "execution_count": null,
   "metadata": {},
   "outputs": [],
   "source": [
    "df_groups, metrics = df_and_metrics(groups, groups_add, checks)"
   ]
  },
  {
   "cell_type": "code",
   "execution_count": null,
   "metadata": {},
   "outputs": [
    {
     "data": {
      "text/html": [
       "<div>\n",
       "<style scoped>\n",
       "    .dataframe tbody tr th:only-of-type {\n",
       "        vertical-align: middle;\n",
       "    }\n",
       "\n",
       "    .dataframe tbody tr th {\n",
       "        vertical-align: top;\n",
       "    }\n",
       "\n",
       "    .dataframe thead th {\n",
       "        text-align: right;\n",
       "    }\n",
       "</style>\n",
       "<table border=\"1\" class=\"dataframe\">\n",
       "  <thead>\n",
       "    <tr style=\"text-align: right;\">\n",
       "      <th></th>\n",
       "      <th>group</th>\n",
       "      <th>total_users</th>\n",
       "      <th>total_revenue</th>\n",
       "      <th>purchases</th>\n",
       "      <th>ARPU</th>\n",
       "      <th>ARPPU</th>\n",
       "      <th>CR</th>\n",
       "    </tr>\n",
       "  </thead>\n",
       "  <tbody>\n",
       "    <tr>\n",
       "      <th>0</th>\n",
       "      <td>A</td>\n",
       "      <td>14693</td>\n",
       "      <td>92096.0</td>\n",
       "      <td>107</td>\n",
       "      <td>6.27</td>\n",
       "      <td>860.71</td>\n",
       "      <td>0.73</td>\n",
       "    </tr>\n",
       "    <tr>\n",
       "      <th>1</th>\n",
       "      <td>B</td>\n",
       "      <td>59883</td>\n",
       "      <td>481230.0</td>\n",
       "      <td>434</td>\n",
       "      <td>8.04</td>\n",
       "      <td>1108.82</td>\n",
       "      <td>0.72</td>\n",
       "    </tr>\n",
       "  </tbody>\n",
       "</table>\n",
       "</div>"
      ],
      "text/plain": [
       "  group  total_users  total_revenue  purchases  ARPU    ARPPU    CR\n",
       "0     A        14693        92096.0        107  6.27   860.71  0.73\n",
       "1     B        59883       481230.0        434  8.04  1108.82  0.72"
      ]
     },
     "execution_count": 6,
     "metadata": {},
     "output_type": "execute_result"
    }
   ],
   "source": [
    "metrics"
   ]
  },
  {
   "cell_type": "code",
   "execution_count": null,
   "metadata": {},
   "outputs": [],
   "source": [
    "def visual_metrics(metrics):\n",
    "    \n",
    "    # Используем стиль и настройки для графиков\n",
    "    plt.style.use('ggplot')\n",
    "    fig, ax = plt.subplots(1, 3, figsize=(15, 6))\n",
    "    fig.suptitle('Основные метрики')\n",
    "\n",
    "    # Визуализируем метрики\n",
    "    sns.barplot(ax=ax[0], data=metrics, x='group', y='ARPU', hue='group', dodge=False)\n",
    "    sns.barplot(ax=ax[1], data=metrics, x='group', y='ARPPU', hue='group', dodge=False)\n",
    "    sns.barplot(ax=ax[2], data=metrics, x='group', y='CR', hue='group', dodge=False)\n",
    "\n",
    "    # Устанавливаем заголовки для графиков\n",
    "    ax[0].set_title('ARPU')\n",
    "    ax[1].set_title('ARPPU')\n",
    "    ax[2].set_title('CR')\n",
    "\n",
    "    plt.tight_layout()  \n",
    "    plt.show()"
   ]
  },
  {
   "cell_type": "code",
   "execution_count": null,
   "metadata": {},
   "outputs": [
    {
     "data": {
      "image/png": "[encoded data removed]",
      "text/plain": [
       "<Figure size 1500x600 with 3 Axes>"
      ]
     },
     "metadata": {},
     "output_type": "display_data"
    }
   ],
   "source": [
    "visual_metrics(metrics)"
   ]
  }
 ],
 "metadata": {
  "kernelspec": {
   "display_name": "Python 3",
   "language": "python",
   "name": "python3"
  },
  "language_info": {
   "codemirror_mode": {
    "name": "ipython",
    "version": 3
   },
   "file_extension": ".py",
   "mimetype": "text/x-python",
   "name": "python",
   "nbconvert_exporter": "python",
   "pygments_lexer": "ipython3",
   "version": "3.11.1"
  },
  "orig_nbformat": 4,
  "vscode": {
   "interpreter": {
    "hash": "aee8b7b246df8f9039afb4144a1f6fd8d2ca17a180786b69acc140d282b71a49"
   }
  }
 },
 "nbformat": 4,
 "nbformat_minor": 2
}
